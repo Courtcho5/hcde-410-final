{
 "cells": [
  {
   "cell_type": "markdown",
   "id": "96324145-7f9d-4ca6-8dd9-a153aef4f2b8",
   "metadata": {},
   "source": [
    "# Final Project Proposal #"
   ]
  },
  {
   "cell_type": "markdown",
   "id": "d7b91c1e-4717-45b6-afb3-06f01fbdbf83",
   "metadata": {},
   "source": [
    "## Motivation and Problem Statement ##"
   ]
  },
  {
   "cell_type": "markdown",
   "id": "e717450f-a322-4def-b536-42727fb101c5",
   "metadata": {},
   "source": [
    "For my final project I intend to explore how data scientists can create predictive models to predict infectious disease outbreaks. However, my approach will be to analyse tweets containing COVID-19 information and COVID-19 case information to potentially predict outbreaks. I am interested in working with this data set because sentiment analysis is tied to another research project I am developing. I am also interested in looking at how social media indicates disease outbreaks. From a human centered perspective, I could work on ways of making this interaction easier to understand, reducing the \"blackbox\" bubble surrounding lanaguage models. After I create the model, I will use human centered approaches to make it accessible. "
   ]
  },
  {
   "cell_type": "markdown",
   "id": "3744c658-b3ea-4f51-8eba-4bdeb2997100",
   "metadata": {},
   "source": [
    "## Data Selected For Analysis ##"
   ]
  },
  {
   "cell_type": "markdown",
   "id": "903be008-02ba-4075-8ab4-ce11d15cbdfd",
   "metadata": {},
   "source": [
    "https://www.kaggle.com/datasets/datatattle/covid-19-nlp-text-classification\n",
    "This data set is a collection of tweets containing COVID-19 information. In the dataset, there are columns such as location, tweet content, and sentiment analysis. License is Data files © Original Authors. This dataset is suitable because location is classified as countries which will triangulate with the country COVID-19 cases dataset. There are not many ethical concerns but potentially the content of the tweets could reveal private information."
   ]
  },
  {
   "cell_type": "markdown",
   "id": "473a38fb-6293-42f1-a035-dc1c776a3e6e",
   "metadata": {},
   "source": [
    "https://github.com/owid/covid-19-data/tree/master/public/data\n",
    "This dataset is a collection of COVID-19 cases by day and by country. License is Creative Commons BY License. This dataset is suitable because it is a complete list of all countries and cases by day, which is not readily available by the WHO or CDC. The only ethical concern would be that this data might be sensative to individuals effected by COVID-19."
   ]
  },
  {
   "cell_type": "markdown",
   "id": "38783e31-fa82-41c4-ae27-eabea659ce67",
   "metadata": {},
   "source": [
    "## Unknowns and Dependencies ##"
   ]
  },
  {
   "cell_type": "markdown",
   "id": "ba190bcd-c925-43ea-ad01-3e5ab6a1a444",
   "metadata": {},
   "source": [
    "I have begun to research how to actually build a language mode, with my general understanding growing with each video I watch. However, I still have much to learn about. I am concerned that if I choose to do a mix of qualitative and quanitative data there may be issues in how my algorithm is able to process the data. I am not exactly sure how I will design a model to triangulate data and I am not sure if I would be able to resolve this with just google searching. I have tried to follow along some video tutorials and run into a huge error about 50% of the time. Another concern is not finding any matching columns between two datasets. But I think a potential solution could be to manually rename. "
   ]
  },
  {
   "cell_type": "markdown",
   "id": "a9ad647e-46d6-4b7f-9f4a-47b00e1b7ceb",
   "metadata": {},
   "source": [
    "## Feedback ##"
   ]
  },
  {
   "cell_type": "markdown",
   "id": "0544acfa-e16c-4016-b45d-59f56038981a",
   "metadata": {},
   "source": [
    "Feedback from students: Initally, I was aiming to just design an algorthim that just could give a prediction of a chronic illness based on health indicators. After receiving some feedback about the lack of datasets I had I decided to include another dataset. I am now aiming to show triangulation between my 3 variables. "
   ]
  },
  {
   "cell_type": "markdown",
   "id": "fe8ba10d-fee6-4615-a047-5d3a35f339e5",
   "metadata": {},
   "source": [
    "# Final Project Plan (11/10) #"
   ]
  },
  {
   "cell_type": "markdown",
   "id": "c4989cbc-ea7c-4bb0-a0b7-3bdc2312dbd9",
   "metadata": {},
   "source": [
    "## Overview and research questions (or hypotheses) ##"
   ]
  },
  {
   "cell_type": "markdown",
   "id": "3188caaf-3d83-441f-bfe2-67e3dbb0cdd1",
   "metadata": {},
   "source": [
    "For my final project I will explore the relationship between COVID-19 tweets and COVID-19 cases by country. My goal is to show a relationship between the tweets by day and the number of reported cases of COVID. Afterwards I will create a predictive LM model to predict whether particular negative or positive sentiment indicated a potential COVID-19 case surge. This model may be able to predict how sentiment online will impact public behaviour. Public sentiment could also be correlated with dates public health policies, such as lockdowns and mandates, are enacted. \n",
    "\n",
    "I have changed my topic from sleep, sleeping disorders, chronic illness because of the lack of justification I had to investigate my results. I believe this new topic is best suited to develop a predictive model. \n",
    "\n",
    "Research Questions: \n",
    "- How does the sentiment of tweets about COVID-19 (positive, negative, or neutral) correlate with changes in the number of daily COVID-19 cases?\n",
    "\n",
    "- Can sentiment analysis of tweets predict upcoming surges in COVID-19 cases, and if so, how far in advance can such predictions be made?\n",
    "\n",
    "- Can an ML model that combines tweets with COVID-19 case data serve as an \"early warning system\" for global outbreaks?\n",
    " "
   ]
  },
  {
   "cell_type": "markdown",
   "id": "c3e97b70-e0a9-4733-8e9e-c22fef1dce92",
   "metadata": {},
   "source": [
    "## Background and/or Related Work ##"
   ]
  },
  {
   "cell_type": "markdown",
   "id": "8c4f8afe-c408-4792-ac6f-b72cd0f356c0",
   "metadata": {},
   "source": [
    "There has already been significant research performed related to my subject. For example Lamsal et al. explored latent variables within COVID-19 related tweets in Australia and used this to improve a ML model's ability to forcast on COVID-19 cases (Lamsal et al., 2022). \n",
    "\n",
    "Given the similar nature of my study with Lamsal et al. I can identity two main ways that my project differs. \n",
    "1. Given that my dataset already incorporates sentiment analysis, I will be working with a new range of sentiment tweets. Unlike, Lamsal et al., I will not be redefining varibles within tweets.\n",
    "2. The datasets I have chosen are open license and publicly accessible as opposed to Lamsal et al.'s research. Anyone with access to my notebook will be able to reproduce the results of my project.\n",
    "\n",
    "The results of the study have helped inform that using a time series model may be best for my research project. Lamsal et al. also uses a Granger Causality to determine if the predicted time series can forcast another. This statistical concept is interesting to me, and while I may not utilize it in my report I will influence my understanding of applied mathematical models. \n"
   ]
  },
  {
   "cell_type": "markdown",
   "id": "c20e3742-9066-4a0c-bba9-31409a995b03",
   "metadata": {},
   "source": [
    "## Methodology ##"
   ]
  },
  {
   "cell_type": "markdown",
   "id": "c53954f3-e28e-4615-abfc-4df3f1b06288",
   "metadata": {},
   "source": [
    "To execute this analysis I will break it down in to 2 (maybe 3) parts:\n",
    "\n",
    "Part 1: Preliminary Graphing\n",
    "1. Graphing relationships between COVID-19 tweets with the number of positive, negative, and neutral sentiment labels per day \n",
    "2. Combining this graph with number of COVID-19 cases per day\n",
    "3. Adding geographical elements (country) to the graphs\n",
    "4. Determine if a predictive model should be made.\n",
    "\n",
    "Part 2: Predictive ML Model\n",
    "1. Clean COVID-19 tweets data: reorder digits in \"date\" column to be in the format YYYY-MM-DD to match other data set, label each sentiment analysis with a number instead of word\n",
    "2. Calculate a daily \"sentiment\" score for each country, plot this again\n",
    "3. Merge data sets on \"date\"\n",
    "4. Split data into training and testing\n",
    "5. Using either a linear regression or time-series model (ARIMA) use the training data to train model\n",
    "6. Output predictions for future dates, locations, sentiment, and other variables\n",
    "\n",
    "I am still researching which applied mathematical model is best but my data cleaning and organizing steps should remain the same. I am continuing to explore classification models, like the SGD classifer or linear SVC (12. Choosing the Right Estimator, 2024).\n",
    "\n",
    "I believe that these methods are useful because it will help me understand how human emotions can be tied to global behavior. A trendline can only tell you so much about how people feel, having an interactive model may be able to better mimic or reflect human sentiment. The goal is to be able to input a sentiment score and see how our past behavior in pandemics may influence future disease outbreaks."
   ]
  },
  {
   "cell_type": "markdown",
   "id": "83bc40dd-79b0-4f4a-b358-38866b201cd9",
   "metadata": {},
   "source": [
    "Sources:\n",
    "\n",
    "Lamsal, R., Harwood, A., & Read, M. R. (2022). Twitter conversations predict the daily confirmed COVID-19 cases. Applied Soft Computing, 129, 109603. https://doi.org/10.1016/j.asoc.2022.109603\n",
    "\n",
    "12. Choosing the right estimator. (2024). Scikit-Learn. https://scikit-learn.org/stable/machine_learning_map.html"
   ]
  },
  {
   "cell_type": "code",
   "execution_count": null,
   "id": "0bb0acbf-31ff-4b95-a991-0e122da33dc4",
   "metadata": {},
   "outputs": [],
   "source": []
  }
 ],
 "metadata": {
  "kernelspec": {
   "display_name": "Python 3 (ipykernel)",
   "language": "python",
   "name": "python3"
  },
  "language_info": {
   "codemirror_mode": {
    "name": "ipython",
    "version": 3
   },
   "file_extension": ".py",
   "mimetype": "text/x-python",
   "name": "python",
   "nbconvert_exporter": "python",
   "pygments_lexer": "ipython3",
   "version": "3.10.13"
  }
 },
 "nbformat": 4,
 "nbformat_minor": 5
}
